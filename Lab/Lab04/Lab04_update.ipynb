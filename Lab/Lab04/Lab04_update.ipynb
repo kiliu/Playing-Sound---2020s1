{
 "cells": [
  {
   "cell_type": "markdown",
   "metadata": {},
   "source": [
    "# Lab 04: Aliasing of digital sampling"
   ]
  },
  {
   "cell_type": "code",
   "execution_count": 1,
   "metadata": {},
   "outputs": [],
   "source": [
    "import sys\n",
    "sys.path.append('../ThinkDsp')\n",
    "import thinkdsp\n",
    "import thinkplot\n",
    "\n",
    "import matplotlib.pyplot as plt\n",
    "import numpy as np"
   ]
  },
  {
   "cell_type": "markdown",
   "metadata": {},
   "source": [
    "## Aliasing: Trianglar sound wave"
   ]
  },
  {
   "cell_type": "code",
   "execution_count": 2,
   "metadata": {},
   "outputs": [
    {
     "data": {
      "image/png": "[encoded data removed]",
      "text/plain": [
       "<Figure size 432x288 with 1 Axes>"
      ]
     },
     "metadata": {
      "needs_background": "light"
     },
     "output_type": "display_data"
    }
   ],
   "source": [
    "frequency = 200\n",
    "framerate = 10000\n",
    "\n",
    "triangle_sig = thinkdsp.TriangleSignal(freq=frequency, amp=1, offset=0)\n",
    "triangle_wave = triangle_sig.make_wave(duration=1.5, start=0, framerate=framerate)\n",
    "sp = triangle_wave.make_spectrum()\n",
    "sp.plot()"
   ]
  },
  {
   "cell_type": "code",
   "execution_count": 3,
   "metadata": {},
   "outputs": [
    {
     "data": {
      "image/png": "[encoded data removed]",
      "text/plain": [
       "<Figure size 432x288 with 1 Axes>"
      ]
     },
     "metadata": {
      "needs_background": "light"
     },
     "output_type": "display_data"
    }
   ],
   "source": [
    "frequency = 1100\n",
    "framerate = 10000\n",
    "\n",
    "triangle_sig = thinkdsp.TriangleSignal(freq=frequency, amp=1, offset=0)\n",
    "triangle_wave = triangle_sig.make_wave(duration=1.5, start=0, framerate=framerate)\n",
    "sp = triangle_wave.make_spectrum()\n",
    "sp.plot()"
   ]
  },
  {
   "cell_type": "markdown",
   "metadata": {},
   "source": [
    "## Nyquist’s Theorem"
   ]
  },
  {
   "cell_type": "markdown",
   "metadata": {},
   "source": [
    "A frequency which is greater than half the sample frequency gets reflected through half the sample frequency, so that it sounds like a frequency of the corresponding amount less than half."
   ]
  },
  {
   "cell_type": "markdown",
   "metadata": {},
   "source": [
    "<img src=\"aliasing.png\">"
   ]
  },
  {
   "cell_type": "code",
   "execution_count": 11,
   "metadata": {},
   "outputs": [],
   "source": [
    "frameRate = 10.0\n",
    "frequency = 2.0\n",
    "phase = 0\n",
    "showSin = True"
   ]
  },
  {
   "cell_type": "code",
   "execution_count": 12,
   "metadata": {},
   "outputs": [
    {
     "data": {
      "image/png": "[encoded data removed]",
      "text/plain": [
       "<Figure size 432x288 with 1 Axes>"
      ]
     },
     "metadata": {
      "needs_background": "light"
     },
     "output_type": "display_data"
    }
   ],
   "source": [
    "amplitude = 1.0\n",
    "\n",
    "x = np.arange(0,1.01,0.01)   # start,stop,step\n",
    "k = 2 * np.pi * frequency\n",
    "y = amplitude * np.sin(k*x + phase)\n",
    "\n",
    "ks = 2 * np.pi * frameRate\n",
    "xs = np.arange(0+1/(2*frameRate),1,1/frameRate)\n",
    "ys = amplitude * np.sin(k*xs + phase)\n",
    "\n",
    "if showSin:\n",
    "    plt.plot(x,y)\n",
    "for i in range(len(xs)):\n",
    "    plt.plot([xs[i],xs[i]],[0,ys[i]],'r')\n",
    "    plt.plot(xs[i], ys[i],'bo')\n",
    "plt.plot([0,1],[0,0])\n",
    "plt.axis([-0.01,1.01,-2,2])\n",
    "plt.show()"
   ]
  },
  {
   "cell_type": "markdown",
   "metadata": {},
   "source": [
    "## Aliasing: a single cosine sound wave"
   ]
  },
  {
   "cell_type": "code",
   "execution_count": null,
   "metadata": {},
   "outputs": [],
   "source": [
    "frequency = 1500\n",
    "framerate = 5000\n",
    "\n",
    "cos_signal = thinkdsp.CosSignal(frequency)\n",
    "cos_wave = cos_signal.make_wave(duration=1.5, framerate=framerate)\n",
    "cos_wave.make_audio()"
   ]
  },
  {
   "cell_type": "code",
   "execution_count": null,
   "metadata": {},
   "outputs": [],
   "source": [
    "sp = cos_wave.make_spectrum()\n",
    "sp.plot()"
   ]
  },
  {
   "cell_type": "code",
   "execution_count": null,
   "metadata": {},
   "outputs": [],
   "source": [
    "frequency = 3500\n",
    "framerate = 5000\n",
    "\n",
    "cos_signal = thinkdsp.CosSignal(frequency)\n",
    "cos_wave = cos_signal.make_wave(duration=1.5, framerate=framerate)\n",
    "cos_wave.make_audio()"
   ]
  },
  {
   "cell_type": "code",
   "execution_count": null,
   "metadata": {},
   "outputs": [],
   "source": [
    "sp = cos_wave.make_spectrum()\n",
    "sp.plot()"
   ]
  },
  {
   "cell_type": "code",
   "execution_count": null,
   "metadata": {},
   "outputs": [],
   "source": [
    "frequency = 3500\n",
    "framerate = 10000\n",
    "\n",
    "cos_signal = thinkdsp.CosSignal(frequency)\n",
    "cos_wave = cos_signal.make_wave(duration=1.5, framerate=framerate)\n",
    "cos_wave.make_audio()"
   ]
  },
  {
   "cell_type": "code",
   "execution_count": null,
   "metadata": {},
   "outputs": [],
   "source": [
    "sp = cos_wave.make_spectrum()\n",
    "sp.plot()"
   ]
  },
  {
   "cell_type": "markdown",
   "metadata": {},
   "source": [
    "## Aliasing: Chirp"
   ]
  },
  {
   "cell_type": "code",
   "execution_count": null,
   "metadata": {},
   "outputs": [],
   "source": [
    "def half_framerate(w):\n",
    "    fr = w.framerate/2\n",
    "    l = round(len(w.ys)/2)\n",
    "    ys = [0.0]*l\n",
    "    ts = [0.0]*l\n",
    "    for i in range(l):\n",
    "        ys[i] = w.ys[i*2]\n",
    "        ts[i] = w.ts[i*2]\n",
    "    w2 = thinkdsp.Wave(ys,ts,fr)\n",
    "    return(w2)"
   ]
  },
  {
   "cell_type": "code",
   "execution_count": null,
   "metadata": {},
   "outputs": [],
   "source": [
    "signal = thinkdsp.Chirp(start=2000, end=3000)\n",
    "wave = signal.make_wave(duration=3, framerate=10000)\n",
    "wave.make_audio()"
   ]
  },
  {
   "cell_type": "code",
   "execution_count": null,
   "metadata": {},
   "outputs": [],
   "source": [
    "wave_half = half_framerate(wave)\n",
    "wave_half.make_audio()"
   ]
  },
  {
   "cell_type": "code",
   "execution_count": null,
   "metadata": {},
   "outputs": [],
   "source": [
    "print(wave_half.framerate)"
   ]
  },
  {
   "cell_type": "markdown",
   "metadata": {},
   "source": [
    "## Aliasing: wave file"
   ]
  },
  {
   "cell_type": "markdown",
   "metadata": {},
   "source": [
    "### Read wave file"
   ]
  },
  {
   "cell_type": "code",
   "execution_count": null,
   "metadata": {},
   "outputs": [],
   "source": [
    "wave = thinkdsp.read_wave(\"triangle_mod_200Hz.wav\")\n",
    "wave.make_audio()"
   ]
  },
  {
   "cell_type": "code",
   "execution_count": null,
   "metadata": {},
   "outputs": [],
   "source": [
    "sp = wave.make_spectrum()\n",
    "sp.plot(high=2500)"
   ]
  },
  {
   "cell_type": "markdown",
   "metadata": {},
   "source": [
    "Note that the components of frequencies higher than 3000 have been removed."
   ]
  },
  {
   "cell_type": "code",
   "execution_count": null,
   "metadata": {},
   "outputs": [],
   "source": [
    "print(wave.framerate)"
   ]
  },
  {
   "cell_type": "code",
   "execution_count": null,
   "metadata": {},
   "outputs": [],
   "source": [
    "seg = wave.segment(0,0.01)\n",
    "seg.plot()"
   ]
  },
  {
   "cell_type": "markdown",
   "metadata": {},
   "source": [
    "### Reduce framerate"
   ]
  },
  {
   "cell_type": "code",
   "execution_count": null,
   "metadata": {},
   "outputs": [],
   "source": [
    "wave_half = half_framerate(wave)\n",
    "wave_half.make_audio()"
   ]
  },
  {
   "cell_type": "code",
   "execution_count": null,
   "metadata": {},
   "outputs": [],
   "source": [
    "print(wave_half.framerate)"
   ]
  },
  {
   "cell_type": "markdown",
   "metadata": {},
   "source": [
    "### Note the aliasing"
   ]
  },
  {
   "cell_type": "code",
   "execution_count": null,
   "metadata": {
    "scrolled": true
   },
   "outputs": [],
   "source": [
    "sp_half = wave_half.make_spectrum()\n",
    "sp_half.plot(high=2500)"
   ]
  },
  {
   "cell_type": "code",
   "execution_count": null,
   "metadata": {},
   "outputs": [],
   "source": []
  }
 ],
 "metadata": {
  "kernelspec": {
   "display_name": "Python 3",
   "language": "python",
   "name": "python3"
  },
  "language_info": {
   "codemirror_mode": {
    "name": "ipython",
    "version": 3
   },
   "file_extension": ".py",
   "mimetype": "text/x-python",
   "name": "python",
   "nbconvert_exporter": "python",
   "pygments_lexer": "ipython3",
   "version": "3.8.2"
  }
 },
 "nbformat": 4,
 "nbformat_minor": 2
}
